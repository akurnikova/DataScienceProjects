{
 "cells": [
  {
   "cell_type": "code",
   "execution_count": null,
   "metadata": {},
   "outputs": [],
   "source": [
    "#! usr/bin/env python3"
   ]
  },
  {
   "cell_type": "markdown",
   "metadata": {},
   "source": [
    "## Code for scraping reddit data from:\n",
    "http://www.storybench.org/how-to-scrape-reddit-with-python/"
   ]
  },
  {
   "cell_type": "markdown",
   "metadata": {},
   "source": [
    "## Set up reddit connection"
   ]
  },
  {
   "cell_type": "code",
   "execution_count": 1,
   "metadata": {},
   "outputs": [],
   "source": [
    "import praw\n",
    "import pandas as pd\n",
    "import datetime as dt\n",
    "from wordcloud import WordCloud\n",
    "import PIL\n",
    "import itertools\n",
    "import matplotlib.pyplot as plt\n",
    "import re\n",
    "import operator\n",
    "import numpy as np"
   ]
  },
  {
   "cell_type": "code",
   "execution_count": 2,
   "metadata": {},
   "outputs": [],
   "source": [
    "reddit = praw.Reddit(client_id='boyh7Ist0kFkHQ', \\\n",
    "                     client_secret='wQxUyTpdfaI-zBYa3LnnATNHdc4', \\\n",
    "                     user_agent='BabyRedditPull', \\\n",
    "                     username='SouperWombat', \\\n",
    "                     password='gRf$Rc8l')\n",
    "\n",
    "## Function to import to pandas dataframe\n",
    "def get_date(created):\n",
    "    return dt.datetime.fromtimestamp(created)\n",
    "\n",
    "def import_to_df(sub_data):\n",
    "    sub_dict = {\"title\":[], \\\n",
    "                    \"score\":[], \\\n",
    "                    \"id\":[], \\\n",
    "                    \"comms_num\": [], \\\n",
    "                    \"created\": [], \\\n",
    "                    \"body\":[]}\n",
    "\n",
    "    for submission in sub_data:\n",
    "        sub_dict[\"title\"].append(submission.title)\n",
    "        sub_dict[\"score\"].append(submission.score)\n",
    "        sub_dict[\"id\"].append(submission.id)\n",
    "        sub_dict[\"comms_num\"].append(submission.num_comments)\n",
    "        sub_dict[\"created\"].append(submission.created)\n",
    "        sub_dict[\"body\"].append(submission.selftext)\n",
    "    df = pd.DataFrame(sub_dict)\n",
    "    _timestamp = df[\"created\"].apply(get_date)\n",
    "    df = df.assign(timestamp = _timestamp)\n",
    "    df['Datetime'] = pd.to_datetime(df['timestamp'])\n",
    "    df = df.set_index('Datetime')\n",
    "    return df"
   ]
  },
  {
   "cell_type": "markdown",
   "metadata": {},
   "source": [
    "## Import data"
   ]
  },
  {
   "cell_type": "code",
   "execution_count": 93,
   "metadata": {},
   "outputs": [],
   "source": [
    "## Import data to pandas\n",
    "Nposts = 100000\n",
    "\n",
    "subreddit_mommit = reddit.subreddit('mommit')\n",
    "new_data_mommit = import_to_df(subreddit_mommit.new(limit=Nposts))\n",
    "new_data_mommit.to_pickle('mommit_data')"
   ]
  },
  {
   "cell_type": "code",
   "execution_count": 101,
   "metadata": {},
   "outputs": [],
   "source": [
    "#subreddit_bump2017 = reddit.subreddit('SeptemberBumpers2017')\n",
    "#new_data_bump2017 = import_to_df(subreddit_bump2017.new(limit=Nposts))\n",
    "new_data_bump2017.to_pickle('bump2017_data')"
   ]
  },
  {
   "cell_type": "code",
   "execution_count": 100,
   "metadata": {},
   "outputs": [],
   "source": [
    "#subreddit_ppd = reddit.subreddit('PostpartumDepression')\n",
    "#new_data_ppd = import_to_df(subreddit_ppd.new(limit=Nposts))\n",
    "new_data_ppd.to_pickle('ppd_data')"
   ]
  },
  {
   "cell_type": "code",
   "execution_count": 99,
   "metadata": {},
   "outputs": [],
   "source": [
    "#subreddit_babies = reddit.subreddit('babies')\n",
    "#new_data_babies = import_to_df(subreddit_babies.new(limit=Nposts))\n",
    "new_data_babies.to_pickle('babies_data')"
   ]
  },
  {
   "cell_type": "code",
   "execution_count": 106,
   "metadata": {},
   "outputs": [
    {
     "data": {
      "text/html": [
       "<div>\n",
       "<style scoped>\n",
       "    .dataframe tbody tr th:only-of-type {\n",
       "        vertical-align: middle;\n",
       "    }\n",
       "\n",
       "    .dataframe tbody tr th {\n",
       "        vertical-align: top;\n",
       "    }\n",
       "\n",
       "    .dataframe thead th {\n",
       "        text-align: right;\n",
       "    }\n",
       "</style>\n",
       "<table border=\"1\" class=\"dataframe\">\n",
       "  <thead>\n",
       "    <tr style=\"text-align: right;\">\n",
       "      <th></th>\n",
       "      <th>title</th>\n",
       "      <th>score</th>\n",
       "      <th>id</th>\n",
       "      <th>comms_num</th>\n",
       "      <th>created</th>\n",
       "      <th>body</th>\n",
       "      <th>timestamp</th>\n",
       "    </tr>\n",
       "    <tr>\n",
       "      <th>Datetime</th>\n",
       "      <th></th>\n",
       "      <th></th>\n",
       "      <th></th>\n",
       "      <th></th>\n",
       "      <th></th>\n",
       "      <th></th>\n",
       "      <th></th>\n",
       "    </tr>\n",
       "  </thead>\n",
       "  <tbody>\n",
       "    <tr>\n",
       "      <th>2018-10-24 18:12:01</th>\n",
       "      <td>Having a Really Rough Go</td>\n",
       "      <td>5</td>\n",
       "      <td>9r1llj</td>\n",
       "      <td>3</td>\n",
       "      <td>1.540430e+09</td>\n",
       "      <td>My son is 7 months old.  I had a rough pregnan...</td>\n",
       "      <td>2018-10-24 18:12:01</td>\n",
       "    </tr>\n",
       "    <tr>\n",
       "      <th>2018-10-24 02:13:58</th>\n",
       "      <td>There is hope</td>\n",
       "      <td>5</td>\n",
       "      <td>9qv5r6</td>\n",
       "      <td>0</td>\n",
       "      <td>1.540372e+09</td>\n",
       "      <td>I realize we’re all going through different si...</td>\n",
       "      <td>2018-10-24 02:13:58</td>\n",
       "    </tr>\n",
       "    <tr>\n",
       "      <th>2018-10-23 18:40:12</th>\n",
       "      <td>Type of Infant Feeding and Mental Health</td>\n",
       "      <td>3</td>\n",
       "      <td>9qr9t6</td>\n",
       "      <td>0</td>\n",
       "      <td>1.540345e+09</td>\n",
       "      <td>Attention mothers who have given birth within ...</td>\n",
       "      <td>2018-10-23 18:40:12</td>\n",
       "    </tr>\n",
       "    <tr>\n",
       "      <th>2018-10-01 06:18:00</th>\n",
       "      <td>CBD and Placenta Encapsulation</td>\n",
       "      <td>0</td>\n",
       "      <td>9kdk95</td>\n",
       "      <td>0</td>\n",
       "      <td>1.538400e+09</td>\n",
       "      <td>I'm 37 weeks pregnant and planning on doing pl...</td>\n",
       "      <td>2018-10-01 06:18:00</td>\n",
       "    </tr>\n",
       "    <tr>\n",
       "      <th>2018-09-23 20:44:03</th>\n",
       "      <td>Trying to keep at least one of us sane</td>\n",
       "      <td>3</td>\n",
       "      <td>9ib9ba</td>\n",
       "      <td>4</td>\n",
       "      <td>1.537761e+09</td>\n",
       "      <td>-unplanned baby\\n-I never wanted kids, but I’m...</td>\n",
       "      <td>2018-09-23 20:44:03</td>\n",
       "    </tr>\n",
       "  </tbody>\n",
       "</table>\n",
       "</div>"
      ],
      "text/plain": [
       "                                                        title  score      id  \\\n",
       "Datetime                                                                       \n",
       "2018-10-24 18:12:01                  Having a Really Rough Go      5  9r1llj   \n",
       "2018-10-24 02:13:58                             There is hope      5  9qv5r6   \n",
       "2018-10-23 18:40:12  Type of Infant Feeding and Mental Health      3  9qr9t6   \n",
       "2018-10-01 06:18:00            CBD and Placenta Encapsulation      0  9kdk95   \n",
       "2018-09-23 20:44:03    Trying to keep at least one of us sane      3  9ib9ba   \n",
       "\n",
       "                     comms_num       created  \\\n",
       "Datetime                                       \n",
       "2018-10-24 18:12:01          3  1.540430e+09   \n",
       "2018-10-24 02:13:58          0  1.540372e+09   \n",
       "2018-10-23 18:40:12          0  1.540345e+09   \n",
       "2018-10-01 06:18:00          0  1.538400e+09   \n",
       "2018-09-23 20:44:03          4  1.537761e+09   \n",
       "\n",
       "                                                                  body  \\\n",
       "Datetime                                                                 \n",
       "2018-10-24 18:12:01  My son is 7 months old.  I had a rough pregnan...   \n",
       "2018-10-24 02:13:58  I realize we’re all going through different si...   \n",
       "2018-10-23 18:40:12  Attention mothers who have given birth within ...   \n",
       "2018-10-01 06:18:00  I'm 37 weeks pregnant and planning on doing pl...   \n",
       "2018-09-23 20:44:03  -unplanned baby\\n-I never wanted kids, but I’m...   \n",
       "\n",
       "                              timestamp  \n",
       "Datetime                                 \n",
       "2018-10-24 18:12:01 2018-10-24 18:12:01  \n",
       "2018-10-24 02:13:58 2018-10-24 02:13:58  \n",
       "2018-10-23 18:40:12 2018-10-23 18:40:12  \n",
       "2018-10-01 06:18:00 2018-10-01 06:18:00  \n",
       "2018-09-23 20:44:03 2018-09-23 20:44:03  "
      ]
     },
     "execution_count": 106,
     "metadata": {},
     "output_type": "execute_result"
    }
   ],
   "source": []
  },
  {
   "cell_type": "code",
   "execution_count": null,
   "metadata": {},
   "outputs": [],
   "source": []
  }
 ],
 "metadata": {
  "kernelspec": {
   "display_name": "Python 3",
   "language": "python",
   "name": "python3"
  },
  "language_info": {
   "codemirror_mode": {
    "name": "ipython",
    "version": 3
   },
   "file_extension": ".py",
   "mimetype": "text/x-python",
   "name": "python",
   "nbconvert_exporter": "python",
   "pygments_lexer": "ipython3",
   "version": "3.7.0"
  }
 },
 "nbformat": 4,
 "nbformat_minor": 2
}
